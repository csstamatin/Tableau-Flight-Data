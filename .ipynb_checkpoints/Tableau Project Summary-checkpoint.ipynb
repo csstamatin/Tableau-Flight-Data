{
 "cells": [
  {
   "cell_type": "markdown",
   "metadata": {},
   "source": [
    "# Tableau Flight Delay Project\n",
    "\n",
    "First Try Project link: <br>\n",
    "https://public.tableau.com/profile/costa4496#!/vizhome/PreFeedProjectBook/FlightStory\n",
    "\n",
    "Final Project link: <br>\n",
    "https://public.tableau.com/profile/costa4496#!/vizhome/FlightProjectBook/FlightStory\n",
    "\n",
    "Data link(1987, 1997, 2007): <br>\n",
    "http://stat-computing.org/dataexpo/2009/the-data.html\n",
    "\n",
    "### Summary\n",
    "\n",
    "    The data set that was chosen was flight delay data for 1987, 1997, and 2007. The data is large so only one set for each decade was picked to compare. It consists of flight information: flight number, origin, etc., and delay information: arrival delay, cancelled, etc.  First I explored the data, then looked at delays and found a surprise at the end. I created two python files to help me. One to add new fields to the data after feedback, and another to find the extra destinations in our surprise.\n",
    "\n",
    "### Design\n",
    "\n",
    "    Design choices were made mostly by the data. I added a few fields to help show full airport and carrier names after some feedback. I choose line graphs for data over time, bar graphs for comparison across fields, and a map to showcase the geographical aspects of the data. I also liked the basic color scheme as did my readers.\n",
    "    \n",
    "### Feedback\n",
    "\n",
    "    I showed three different people my Tableau story. All followed my story easily and understood what I wanted to share. The only changes I made for feedback were adding the names of airports and carriers. This made it easier to identify locations and carriers in my visualization. I also added a few more labels to my line graphs to help clarify my points.\n",
    "    \n",
    "### Resources\n",
    "    \n",
    "    Udacity.com\n",
    "    transtats.bts.gov\n",
    "    stat-computing.org\n",
    "    docs.python.org\n"
   ]
  }
 ],
 "metadata": {
  "kernelspec": {
   "display_name": "Python 2",
   "language": "python",
   "name": "python2"
  },
  "language_info": {
   "codemirror_mode": {
    "name": "ipython",
    "version": 2
   },
   "file_extension": ".py",
   "mimetype": "text/x-python",
   "name": "python",
   "nbconvert_exporter": "python",
   "pygments_lexer": "ipython2",
   "version": "2.7.14"
  }
 },
 "nbformat": 4,
 "nbformat_minor": 2
}
